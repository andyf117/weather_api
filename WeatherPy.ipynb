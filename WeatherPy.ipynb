{
 "cells": [
  {
   "cell_type": "markdown",
   "metadata": {},
   "source": [
    "# WeatherPy\n",
    "----\n",
    "\n",
    "### Analysis\n",
    "* As expected, the weather becomes significantly warmer as one approaches the equator (0 Deg. Latitude). More interestingly, however, is the fact that the southern hemisphere tends to be warmer this time of year than the northern hemisphere. This may be due to the tilt of the earth.\n",
    "\n",
    "* There is no strong relationship between latitude and cloudiness. However, it is interesting to see that a strong band of cities sits at 0, 80, and 100% cloudiness.\n",
    "\n",
    "* There is no strong relationship between latitude and wind speed. However, in northern hemispheres there is a flurry of cities with over 20 mph of wind.\n",
    "\n",
    "---\n",
    "\n",
    "#### Note\n",
    "* Instructions have been included for each segment. You do not have to follow them exactly, but they are included to help you think through the steps."
   ]
  },
  {
   "cell_type": "code",
   "execution_count": 1,
   "metadata": {
    "scrolled": true
   },
   "outputs": [],
   "source": [
    "# Dependencies and Setup\n",
    "import matplotlib.pyplot as plt\n",
    "import pandas as pd\n",
    "import numpy as np\n",
    "import requests\n",
    "import time\n",
    "import json\n",
    "# Import API key\n",
    "from api_keys import api_key\n",
    "\n",
    "# Incorporated citipy to determine city based on latitude and longitude\n",
    "from citipy import citipy\n",
    "\n",
    "# Output File (CSV)\n",
    "output_data_file = \"output_data/cities.csv\"\n",
    "\n",
    "# Range of latitudes and longitudes\n",
    "lat_range = (-90, 90)\n",
    "lng_range = (-180, 180)"
   ]
  },
  {
   "cell_type": "markdown",
   "metadata": {},
   "source": [
    "## Generate Cities List"
   ]
  },
  {
   "cell_type": "code",
   "execution_count": 2,
   "metadata": {
    "scrolled": false
   },
   "outputs": [
    {
     "name": "stdout",
     "output_type": "stream",
     "text": [
      "606\n"
     ]
    }
   ],
   "source": [
    "# List for holding lat_lngs and cities\n",
    "lat_lngs = []\n",
    "cities = []\n",
    "\n",
    "# Create a set of random lat and lng combinations\n",
    "lats = np.random.uniform(low=-90.000, high=90.000, size=1500)\n",
    "lngs = np.random.uniform(low=-180.000, high=180.000, size=1500)\n",
    "lat_lngs = zip(lats, lngs)\n",
    "\n",
    "# Identify nearest city for each lat, lng combination\n",
    "\n",
    "\n",
    "\n",
    "for lat_lng in lat_lngs:\n",
    "\n",
    "    city = citipy.nearest_city(lat_lng[0], lat_lng[1]).city_name\n",
    "    \n",
    "    # If the city is unique, then add it to a our cities list\n",
    "    if city not in cities:\n",
    "        cities.append(city)\n",
    "\n",
    "# Print the city count to confirm sufficient count\n",
    "print(len(cities))\n"
   ]
  },
  {
   "cell_type": "markdown",
   "metadata": {},
   "source": [
    "### Perform API Calls\n",
    "* Perform a weather check on each city using a series of successive API calls.\n",
    "* Include a print log of each city as it'sbeing processed (with the city number and city name).\n"
   ]
  },
  {
   "cell_type": "code",
   "execution_count": null,
   "metadata": {},
   "outputs": [
    {
     "name": "stdout",
     "output_type": "stream",
     "text": [
      "Progress:0/606\n",
      "Progress:1/606\n",
      "Progress:2/606\n",
      "Progress:3/606\n",
      "Progress:4/606\n",
      "Progress:5/606\n",
      "Progress:6/606\n",
      "Progress:7/606\n",
      "Progress:8/606\n",
      "Progress:9/606\n",
      "Progress:10/606\n",
      "Progress:11/606\n",
      "Progress:12/606\n",
      "Progress:13/606\n",
      "Progress:14/606\n",
      "Progress:15/606\n",
      "Progress:16/606\n",
      "Progress:17/606\n",
      "Progress:18/606\n",
      "Progress:19/606\n",
      "Progress:20/606\n",
      "Progress:21/606\n",
      "Progress:22/606\n",
      "Progress:23/606\n",
      "Progress:24/606\n",
      "Progress:25/606\n",
      "Progress:26/606\n",
      "Progress:27/606\n",
      "Progress:28/606\n",
      "Progress:29/606\n",
      "Progress:30/606\n",
      "Progress:31/606\n",
      "Progress:32/606\n",
      "Progress:33/606\n",
      "Progress:34/606\n",
      "Progress:35/606\n",
      "Progress:36/606\n",
      "Progress:37/606\n",
      "Progress:38/606\n",
      "Progress:39/606\n",
      "Progress:40/606\n",
      "Progress:41/606\n",
      "Progress:42/606\n",
      "Progress:43/606\n",
      "Progress:44/606\n",
      "Progress:45/606\n",
      "Progress:46/606\n",
      "Progress:47/606\n",
      "Progress:48/606\n",
      "Progress:49/606\n",
      "Progress:50/606\n",
      "Progress:51/606\n",
      "Progress:52/606\n",
      "Progress:53/606\n"
     ]
    }
   ],
   "source": [
    "dataframe_ = pd.DataFrame()\n",
    "\n",
    "for city in cities:\n",
    "#     if cities.index(city) == 3: FOR TESTING\n",
    "#         break\n",
    "    \n",
    "    url = 'https://samples.openweathermap.org/data/2.5/weather?q=' + str(city) + '&appid=b6907d289e10d714a6e88b30761fae22'\n",
    "    response = requests.get(url)\n",
    "    json_data = json.loads(response.text)\n",
    "\n",
    "    city = city\n",
    "    cloudiness = json_data['clouds']\n",
    "    country = json_data['name']\n",
    "    date = json_data['dt']\n",
    "    humidity = json_data['main']\n",
    "    humidity = humidity['humidity']\n",
    "    \n",
    "    coord = json_data['coord']\n",
    "    lat = coord['lat']\n",
    "    lon = coord['lon']\n",
    "    \n",
    "    temp = json_data['main']\n",
    "    temp = temp['temp_max']\n",
    "    \n",
    "    wind = json_data['wind']\n",
    "    wind = wind['speed']\n",
    "    \n",
    "    dictionary = {\n",
    "    'City':city, \n",
    "    'Cloudiness':float(cloudiness['all']), \n",
    "    'Country':country, \n",
    "    'Date':date, \n",
    "    'Humidity': humidity, \n",
    "    'Lat': lat, \n",
    "    'Long': lon, \n",
    "    'Max Temp': temp, \n",
    "    'Wind Speed': wind,\n",
    "\n",
    "\n",
    "    }\n",
    "    print(\"Progress:\"  + str(cities.index(city)) + '/' + str(len(cities)))\n",
    "\n",
    "    dataframe_ = dataframe_.append(dictionary, ignore_index=True)\n",
    "\n"
   ]
  },
  {
   "cell_type": "markdown",
   "metadata": {},
   "source": [
    "### Convert Raw Data to DataFrame\n",
    "* Export the city data into a .csv.\n",
    "* Display the DataFrame"
   ]
  },
  {
   "cell_type": "code",
   "execution_count": 4,
   "metadata": {},
   "outputs": [],
   "source": [
    "\n",
    "dataframe_.to_csv('dataframe_generated.csv')\n",
    "\n",
    "lattitude = dataframe_['Lat'].tolist()\n",
    "\n",
    "maxtemperaature = dataframe_['Max Temp'].tolist()\n",
    "\n",
    "cloudiness = dataframe_['Cloudiness'].tolist()\n",
    "\n",
    "windspeed = dataframe_['Wind Speed'].tolist()\n",
    "\n",
    "humidity =  dataframe_['Humidity'].tolist()\n"
   ]
  },
  {
   "cell_type": "code",
   "execution_count": 5,
   "metadata": {},
   "outputs": [
    {
     "name": "stdout",
     "output_type": "stream",
     "text": [
      "               City  Cloudiness Country          Date  Humidity    Lat  Long  \\\n",
      "0           ushuaia        90.0  London  1.485790e+09      81.0  51.51 -0.13   \n",
      "1       mys shmidta        90.0  London  1.485790e+09      81.0  51.51 -0.13   \n",
      "2         ksenyevka        90.0  London  1.485790e+09      81.0  51.51 -0.13   \n",
      "3             pevek        90.0  London  1.485790e+09      81.0  51.51 -0.13   \n",
      "4  illoqqortoormiut        90.0  London  1.485790e+09      81.0  51.51 -0.13   \n",
      "\n",
      "   Max Temp  Wind Speed  \n",
      "0    281.15         4.1  \n",
      "1    281.15         4.1  \n",
      "2    281.15         4.1  \n",
      "3    281.15         4.1  \n",
      "4    281.15         4.1  \n"
     ]
    }
   ],
   "source": [
    "print(dataframe_.head())\n"
   ]
  },
  {
   "cell_type": "markdown",
   "metadata": {},
   "source": [
    "### Plotting the Data\n",
    "* Use proper labeling of the plots using plot titles (including date of analysis) and axes labels.\n",
    "* Save the plotted figures as .pngs."
   ]
  },
  {
   "cell_type": "markdown",
   "metadata": {},
   "source": [
    "#### Latitude vs. Temperature Plot"
   ]
  },
  {
   "cell_type": "code",
   "execution_count": 6,
   "metadata": {},
   "outputs": [
    {
     "data": {
      "image/png": "[encoded data removed]",
      "text/plain": [
       "<Figure size 432x288 with 1 Axes>"
      ]
     },
     "metadata": {
      "needs_background": "light"
     },
     "output_type": "display_data"
    }
   ],
   "source": [
    "plt.scatter(lattitude,maxtemperaature)\n",
    "plt.show()\n"
   ]
  },
  {
   "cell_type": "markdown",
   "metadata": {},
   "source": [
    "#### Latitude vs. Humidity Plot"
   ]
  },
  {
   "cell_type": "code",
   "execution_count": 7,
   "metadata": {},
   "outputs": [
    {
     "data": {
      "image/png": "[encoded data removed]",
      "text/plain": [
       "<Figure size 432x288 with 1 Axes>"
      ]
     },
     "metadata": {
      "needs_background": "light"
     },
     "output_type": "display_data"
    }
   ],
   "source": [
    "plt.scatter(lattitude,humidity)\n",
    "plt.show()"
   ]
  },
  {
   "cell_type": "markdown",
   "metadata": {},
   "source": [
    "#### Latitude vs. Cloudiness Plot"
   ]
  },
  {
   "cell_type": "code",
   "execution_count": 22,
   "metadata": {},
   "outputs": [
    {
     "data": {
      "image/png": "[encoded data removed]",
      "text/plain": [
       "<Figure size 432x288 with 1 Axes>"
      ]
     },
     "metadata": {
      "needs_background": "light"
     },
     "output_type": "display_data"
    }
   ],
   "source": [
    "plt.scatter(lattitude,cloudiness)\n",
    "plt.show()"
   ]
  },
  {
   "cell_type": "markdown",
   "metadata": {},
   "source": [
    "#### Latitude vs. Wind Speed Plot"
   ]
  },
  {
   "cell_type": "code",
   "execution_count": 23,
   "metadata": {},
   "outputs": [
    {
     "data": {
      "image/png": "[encoded data removed]",
      "text/plain": [
       "<Figure size 432x288 with 1 Axes>"
      ]
     },
     "metadata": {
      "needs_background": "light"
     },
     "output_type": "display_data"
    }
   ],
   "source": [
    "plt.scatter(lattitude,windspeed)\n",
    "plt.show()"
   ]
  },
  {
   "cell_type": "code",
   "execution_count": null,
   "metadata": {},
   "outputs": [],
   "source": []
  }
 ],
 "metadata": {
  "anaconda-cloud": {},
  "kernel_info": {
   "name": "python3"
  },
  "kernelspec": {
   "display_name": "Python 3",
   "language": "python",
   "name": "python3"
  },
  "language_info": {
   "codemirror_mode": {
    "name": "ipython",
    "version": 3
   },
   "file_extension": ".py",
   "mimetype": "text/x-python",
   "name": "python",
   "nbconvert_exporter": "python",
   "pygments_lexer": "ipython3",
   "version": "3.7.1"
  },
  "nteract": {
   "version": "0.12.3"
  }
 },
 "nbformat": 4,
 "nbformat_minor": 2
}
